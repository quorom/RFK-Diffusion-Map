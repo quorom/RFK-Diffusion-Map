{
 "cells": [
  {
   "cell_type": "code",
   "execution_count": 2,
   "metadata": {
    "colab": {},
    "colab_type": "code",
    "collapsed": true,
    "id": "AhP6pxC9IyJn"
   },
   "outputs": [],
   "source": [
    "import numpy as np"
   ]
  },
  {
   "cell_type": "code",
   "execution_count": 3,
   "metadata": {
    "collapsed": true
   },
   "outputs": [],
   "source": [
    "data  = np.random.rand(6,6)*1000 # some random data"
   ]
  },
  {
   "cell_type": "code",
   "execution_count": 11,
   "metadata": {},
   "outputs": [],
   "source": [
    "P = np.array([\n",
    "             [.2, .3, .5],\n",
    "             [.3, .4, .3],\n",
    "             [.5, .3, .2]\n",
    "             ])"
   ]
  },
  {
   "cell_type": "markdown",
   "metadata": {},
   "source": [
    "### 3.1 Connectivity"
   ]
  },
  {
   "cell_type": "code",
   "execution_count": 5,
   "metadata": {
    "collapsed": true
   },
   "outputs": [],
   "source": [
    "def RBF(x, y, alpha=1):\n",
    "    \"\"\" Gaussian kernel for two vectors x and y. With neighborhood distance alpha.\n",
    "    \n",
    "    Arguments:\n",
    "        - x : First vector\n",
    "        - y : second vector\n",
    "        - alpha: neighborhood factor. *Note bigger alpha increases RBF value.\n",
    "    \n",
    "    return: Real num in [0, 1]\n",
    "    \"\"\"\n",
    "    return np.exp(-np.linalg.norm(np.array(x) - np.array(y))**2 / alpha)"
   ]
  },
  {
   "cell_type": "code",
   "execution_count": 6,
   "metadata": {
    "collapsed": true
   },
   "outputs": [],
   "source": [
    "# calculation check\n",
    "assert((RBF([0,0], [1,1], 1) - np.exp(-2)) < 0.0001)\n",
    "assert((RBF([0,0], [0,0], 1) - 1 < 0.0001))"
   ]
  },
  {
   "cell_type": "code",
   "execution_count": 7,
   "metadata": {
    "collapsed": true
   },
   "outputs": [],
   "source": [
    "def kernelize(data, k, alpha=1):\n",
    "    \"\"\" Given some data convert it to a kernel matrix using some given kernel.\n",
    "    \n",
    "    Arguments:\n",
    "        data : Data matrix (N, C)\n",
    "        k: Kernel function\n",
    "        alpha: neighborhood factor. *Note bigger alpha increases kernel function value.\n",
    "    \"\"\"\n",
    "    pass"
   ]
  },
  {
   "cell_type": "markdown",
   "metadata": {},
   "source": [
    "### 3.3 Diffusion Distance\n",
    "\n",
    "$\n",
    "\\begin{align}\n",
    "D_t(X_i, X_j)^2 &= \\sum_{u\\in{}X}\\mid{}p_t(X_i, u) - p_t(X_j, u)\\mid{}^2 \\\\\n",
    "                &= \\sum_{u\\in{}X}\\mid{}p_{ik}^t - p_{kj}^t\\mid{}^2\n",
    "\\end{align}\n",
    "$"
   ]
  },
  {
   "cell_type": "code",
   "execution_count": 8,
   "metadata": {
    "collapsed": true
   },
   "outputs": [],
   "source": [
    "# Note theres no square in the diffusion distance\n",
    "def diffusion_dist(i, j, P):\n",
    "    \"\"\" Computes the diffusion distance between two vectors X_i and X_j.\n",
    "    \n",
    "    Arguments:\n",
    "        i: index for the first data point\n",
    "        j: index for the second data point\n",
    "        P: Probability matrix P[i, j] is the probability to go from i to j.\n",
    "    \"\"\"\n",
    "    return np.linalg.norm(P[i, :] - P[j, :])**2"
   ]
  },
  {
   "cell_type": "code",
   "execution_count": 89,
   "metadata": {},
   "outputs": [
    {
     "name": "stdout",
     "output_type": "stream",
     "text": [
      "0.18\n"
     ]
    }
   ],
   "source": [
    "# P_1 = [.3, .4, .3]\n",
    "# P_2 = [.5, .3, .2]\n",
    "assert(np.abs(diffusion_dist(0,1, P) == (.2**2 + .1**2 + .1**2)))\n",
    "print(diffusion_dist(0,2, P) )"
   ]
  },
  {
   "cell_type": "markdown",
   "metadata": {},
   "source": [
    "### 3.4 Diffusion Map"
   ]
  },
  {
   "cell_type": "code",
   "execution_count": 90,
   "metadata": {},
   "outputs": [
    {
     "data": {
      "text/plain": [
       "array([[  1.63840000e-10,   4.78296900e-08,   6.10351562e-05],\n",
       "       [  4.78296900e-08,   2.68435456e-06,   4.78296900e-08],\n",
       "       [  6.10351562e-05,   4.78296900e-08,   1.63840000e-10]])"
      ]
     },
     "execution_count": 90,
     "metadata": {},
     "output_type": "execute_result"
    }
   ],
   "source": [
    "P**14"
   ]
  },
  {
   "cell_type": "code",
   "execution_count": 91,
   "metadata": {},
   "outputs": [
    {
     "data": {
      "text/plain": [
       "array([[ 0.2,  0.3,  0.5],\n",
       "       [ 0.3,  0.4,  0.3],\n",
       "       [ 0.5,  0.3,  0.2]])"
      ]
     },
     "execution_count": 91,
     "metadata": {},
     "output_type": "execute_result"
    }
   ],
   "source": [
    "# Define Y = P^T\n",
    "Y = np.transpose(P)\n",
    "\n",
    "# Get eigen vectors and values of P\n",
    "eigen_vals, eigen_vecs = np.linalg.eig(P)\n",
    "Y"
   ]
  },
  {
   "cell_type": "markdown",
   "metadata": {},
   "source": [
    "### TODO\n",
    "\n",
    "1. Notice eigen_vecs.. the first column if the first eigen vector (so eigen_vecs[0, :] is first element of each eigen vector\n",
    "2. the eigen_vals and eigen_vecs are not sorted in increasing e_val order"
   ]
  },
  {
   "cell_type": "code",
   "execution_count": 99,
   "metadata": {},
   "outputs": [
    {
     "data": {
      "text/plain": [
       "array([-0.57735027, -0.70710678,  0.40824829])"
      ]
     },
     "execution_count": 99,
     "metadata": {},
     "output_type": "execute_result"
    }
   ],
   "source": [
    "eigen_vecs[0 , :]"
   ]
  },
  {
   "cell_type": "code",
   "execution_count": 103,
   "metadata": {},
   "outputs": [
    {
     "data": {
      "text/plain": [
       "array([[ -5.77350269e-01,  -7.07106781e-01,   4.08248290e-01],\n",
       "       [ -5.77350269e-01,  -2.94492254e-17,  -8.16496581e-01],\n",
       "       [ -5.77350269e-01,   7.07106781e-01,   4.08248290e-01]])"
      ]
     },
     "execution_count": 103,
     "metadata": {},
     "output_type": "execute_result"
    }
   ],
   "source": [
    "eigen_vecs"
   ]
  },
  {
   "cell_type": "code",
   "execution_count": 100,
   "metadata": {},
   "outputs": [
    {
     "name": "stdout",
     "output_type": "stream",
     "text": [
      "[-0.57735027  0.21213203  0.04082483]\n",
      "[-0.57735027 -0.21213203  0.04082483]\n"
     ]
    }
   ],
   "source": [
    "a = (eigen_vals * eigen_vecs[0 , :])\n",
    "b = (eigen_vals * eigen_vecs[2 , :])\n",
    "print(a)\n",
    "print(b)"
   ]
  },
  {
   "cell_type": "code",
   "execution_count": 101,
   "metadata": {
    "collapsed": true
   },
   "outputs": [],
   "source": [
    "# Note theres no square in the diffusion distance\n",
    "def diffusion_dist2(i, j):\n",
    "    \"\"\" Computes the diffusion distance between two vectors X_i and X_j.\n",
    "    \n",
    "    Arguments:\n",
    "        i: index for the first data point\n",
    "        j: index for the second data point\n",
    "        P: Probability matrix P[i, j] is the probability to go from i to j.\n",
    "    \"\"\"\n",
    "    return np.linalg.norm(i - j)**2"
   ]
  },
  {
   "cell_type": "code",
   "execution_count": 102,
   "metadata": {},
   "outputs": [
    {
     "data": {
      "text/plain": [
       "0.17999999999999991"
      ]
     },
     "execution_count": 102,
     "metadata": {},
     "output_type": "execute_result"
    }
   ],
   "source": [
    "diffusion_dist2(a, b)"
   ]
  }
 ],
 "metadata": {
  "colab": {
   "collapsed_sections": [],
   "name": "Diffusion Map",
   "provenance": [],
   "version": "0.3.2"
  },
  "kernelspec": {
   "display_name": "Python 3",
   "language": "python",
   "name": "python3"
  },
  "language_info": {
   "codemirror_mode": {
    "name": "ipython",
    "version": 3
   },
   "file_extension": ".py",
   "mimetype": "text/x-python",
   "name": "python",
   "nbconvert_exporter": "python",
   "pygments_lexer": "ipython3",
   "version": "3.5.2"
  }
 },
 "nbformat": 4,
 "nbformat_minor": 1
}
