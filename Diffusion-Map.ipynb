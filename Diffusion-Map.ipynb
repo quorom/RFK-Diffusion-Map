{
 "cells": [
  {
   "cell_type": "code",
   "execution_count": 204,
   "metadata": {
    "colab": {},
    "colab_type": "code",
    "collapsed": true,
    "id": "AhP6pxC9IyJn"
   },
   "outputs": [],
   "source": [
    "import numpy as np"
   ]
  },
  {
   "cell_type": "code",
   "execution_count": 205,
   "metadata": {
    "collapsed": true
   },
   "outputs": [],
   "source": [
    "data  = np.random.rand(6,6)*1000 # some random data"
   ]
  },
  {
   "cell_type": "code",
   "execution_count": 206,
   "metadata": {
    "collapsed": true
   },
   "outputs": [],
   "source": [
    "P = np.array([\n",
    "             [.2, .3, .5],\n",
    "             [.3, .4, .3],\n",
    "             [.5, .3, .2]\n",
    "             ])"
   ]
  },
  {
   "cell_type": "markdown",
   "metadata": {},
   "source": [
    "### 3.1 Connectivity"
   ]
  },
  {
   "cell_type": "code",
   "execution_count": 207,
   "metadata": {
    "collapsed": true
   },
   "outputs": [],
   "source": [
    "def RBF(x, y, alpha=1):\n",
    "    \"\"\" Gaussian kernel function for two vectors x and y. With neighborhood distance alpha.\n",
    "    \n",
    "    Arguments:\n",
    "        - x : First vector\n",
    "        - y : Second vector\n",
    "        - alpha: neighborhood factor. *Note bigger alpha increases RBF value --> bigger neighborhood\n",
    "    \n",
    "    return: Real num in [0, 1]\n",
    "    \"\"\"\n",
    "    return np.exp(-np.linalg.norm(np.array(x) - np.array(y))**2 / alpha)"
   ]
  },
  {
   "cell_type": "code",
   "execution_count": 208,
   "metadata": {
    "collapsed": true
   },
   "outputs": [],
   "source": [
    "# calculation check\n",
    "assert((RBF([0,0], [1,1], 1) - np.exp(-2)) < 0.0001)\n",
    "assert((RBF([0,0], [0,0], 1) - 1 < 0.0001))"
   ]
  },
  {
   "cell_type": "code",
   "execution_count": 209,
   "metadata": {
    "collapsed": true
   },
   "outputs": [],
   "source": [
    "def kernelize(data, alpha=1, K=RBF):\n",
    "    \"\"\" Given some data convert it to a kernel matrix using some given kernel.\n",
    "    \n",
    "    Arguments:\n",
    "        data : Data matrix (N, C)\n",
    "        k: Kernel function\n",
    "        alpha: neighborhood factor. *Note bigger alpha increases kernel function value.\n",
    "    \"\"\"\n",
    "    # TODO n^2 should be n^2/2 :]\n",
    "    \n",
    "    kernel_matrix = []\n",
    "    for d_i in data:\n",
    "        row = [K(d_i, d_j, alpha=1) for d_j in data]\n",
    "        kernel_matrix.append(row)\n",
    "        \n",
    "    return np.array(kernel_matrix)"
   ]
  },
  {
   "cell_type": "code",
   "execution_count": null,
   "metadata": {},
   "outputs": [],
   "source": [
    "kernel_matrix = kernelize(X, .5, RBF)\n",
    "kernel_matrix"
   ]
  },
  {
   "cell_type": "code",
   "execution_count": null,
   "metadata": {
    "collapsed": true
   },
   "outputs": [],
   "source": [
    "# Add parameter t for the time\n",
    "def diffusion_matrix_RBF(data, m, alpha=1):\n",
    "    \"\"\" Comptues the diffusion matrix for a given data set. Reducing the dimensionality of \n",
    "    each data point to size m.\n",
    "    \n",
    "    Arguments:\n",
    "        data: (N, C) matrix of data points. Each point is a row vector.\n",
    "        m: New reeduced dimension size of matrix. m <= C.\n",
    "        alpha: Neighborhood size for RBF kernel\n",
    "    \"\"\"\n",
    "    # TODO enfor 1 <= m <= C\n",
    "    diffusion_matrix = []\n",
    "    \n",
    "    # 1. Define a kernel K    \n",
    "    kernel_matrix = kernelize(data, alpha, RBF)\n",
    "    \n",
    "    # 2. Create diffusion matrix (P - the row normalized kernel)\n",
    "    P = kernel_matrix / np.sum(kernel_matrix, axis=1).reshape(-1, 1)\n",
    "    \n",
    "    \n",
    "    # 3. Calculate the eigenvectors of the diffusion matrix.\n",
    "    eigen_vals, eigen_vecs = np.linalg.eig(P)\n",
    "    eigen_vals = eigen_vals**2\n",
    "    for i in range(len(data)):\n",
    "        a = (eigen_vals * eigen_vecs[i , m])\n",
    "        row = [diffusion_dist2(a, (eigen_vals * eigen_vecs[j , m])) for j in range(m)]\n",
    "        diffusion_matrix.append(row)    \n",
    "    \n",
    "    \n",
    "    # 4. Map to the d-dimensional diffusion space at time t, \n",
    "    #    using the d dominant eigenvectors and -values as\n",
    "\n",
    "    return np.array(diffusion_matrix)\n"
   ]
  },
  {
   "cell_type": "code",
   "execution_count": null,
   "metadata": {
    "scrolled": true
   },
   "outputs": [],
   "source": []
  },
  {
   "cell_type": "markdown",
   "metadata": {},
   "source": [
    "### 3.3 Diffusion Distance\n",
    "\n",
    "$\n",
    "\\begin{align}\n",
    "D_t(X_i, X_j)^2 &= \\sum_{u\\in{}X}\\mid{}p_t(X_i, u) - p_t(X_j, u)\\mid{}^2 \\\\\n",
    "                &= \\sum_{u\\in{}X}\\mid{}p_{ik}^t - p_{kj}^t\\mid{}^2\n",
    "\\end{align}\n",
    "$"
   ]
  },
  {
   "cell_type": "code",
   "execution_count": null,
   "metadata": {
    "collapsed": true
   },
   "outputs": [],
   "source": [
    "# Note theres no square in the diffusion distance\n",
    "def diffusion_dist2(i, j):\n",
    "    \"\"\" Computes the diffusion distance between two vectors X_i and X_j.\n",
    "    \n",
    "    Arguments:\n",
    "        i: first vector\n",
    "        j: second vector\n",
    "    \"\"\"\n",
    "    return np.linalg.norm(i - j)**2"
   ]
  },
  {
   "cell_type": "code",
   "execution_count": null,
   "metadata": {
    "collapsed": true
   },
   "outputs": [],
   "source": [
    "# Note theres no square in the diffusion distance\n",
    "def diffusion_dist(i, j, P):\n",
    "    \"\"\" Computes the diffusion distance between two vectors X_i and X_j.\n",
    "    \n",
    "    Arguments:\n",
    "        i: index for the first data point\n",
    "        j: index for the second data point\n",
    "        P: Probability matrix P[i, j] is the probability to go from i to j.\n",
    "    \"\"\"\n",
    "    return np.linalg.norm(P[i, :] - P[j, :])**2"
   ]
  },
  {
   "cell_type": "code",
   "execution_count": null,
   "metadata": {},
   "outputs": [],
   "source": [
    "# P_1 = [.3, .4, .3]\n",
    "# P_2 = [.5, .3, .2]\n",
    "assert(np.abs(diffusion_dist(0,1, P) == (.2**2 + .1**2 + .1**2)))\n",
    "print(diffusion_dist(0,2, P) )"
   ]
  },
  {
   "cell_type": "markdown",
   "metadata": {},
   "source": [
    "### 3.4 Diffusion Map"
   ]
  },
  {
   "cell_type": "code",
   "execution_count": null,
   "metadata": {},
   "outputs": [],
   "source": [
    "P**14"
   ]
  },
  {
   "cell_type": "code",
   "execution_count": null,
   "metadata": {},
   "outputs": [],
   "source": [
    "# Define Y = P^T\n",
    "Y = np.transpose(P)\n",
    "\n",
    "# Get eigen vectors and values of P\n",
    "eigen_vals, eigen_vecs = np.linalg.eig(P)\n",
    "Y"
   ]
  },
  {
   "cell_type": "markdown",
   "metadata": {},
   "source": [
    "### TODO\n",
    "\n",
    "1. Notice eigen_vecs.. the first column if the first eigen vector (so eigen_vecs[0, :] is first element of each eigen vector\n",
    "2. the eigen_vals and eigen_vecs are not sorted in increasing e_val order"
   ]
  },
  {
   "cell_type": "code",
   "execution_count": null,
   "metadata": {},
   "outputs": [],
   "source": [
    "eigen_vecs[0 , :]"
   ]
  },
  {
   "cell_type": "code",
   "execution_count": null,
   "metadata": {},
   "outputs": [],
   "source": [
    "eigen_vecs"
   ]
  },
  {
   "cell_type": "code",
   "execution_count": null,
   "metadata": {},
   "outputs": [],
   "source": [
    "a = (eigen_vals * eigen_vecs[0 , :])\n",
    "b = (eigen_vals * eigen_vecs[2 , :])\n",
    "print(a)\n",
    "print(b)"
   ]
  },
  {
   "cell_type": "code",
   "execution_count": null,
   "metadata": {
    "scrolled": true
   },
   "outputs": [],
   "source": [
    "diffusion_dist2(a, b)"
   ]
  },
  {
   "cell_type": "markdown",
   "metadata": {},
   "source": [
    "# \\#4 Visualizing Different Dimensionality Reducers"
   ]
  },
  {
   "cell_type": "code",
   "execution_count": null,
   "metadata": {
    "collapsed": true
   },
   "outputs": [],
   "source": [
    "import tensorflow as tf\n",
    "import matplotlib.pyplot as plt\n",
    "\n",
    "# Load MNIST dataset\n",
    "(x_train_im, y_train), (x_test, y_test) = tf.keras.datasets.mnist.load_data()\n",
    "x_train = x_train.reshape(len(x_train_im),-1)\n",
    "x_test = x_test.reshape(len(x_test),-1)\n"
   ]
  },
  {
   "cell_type": "code",
   "execution_count": null,
   "metadata": {},
   "outputs": [],
   "source": [
    "plt.imshow(x_train_im[2])\n",
    "plt.show()"
   ]
  },
  {
   "cell_type": "code",
   "execution_count": 200,
   "metadata": {
    "collapsed": true
   },
   "outputs": [],
   "source": [
    "from sklearn.decomposition import PCA\n",
    "pca = PCA(n_components = 2)"
   ]
  },
  {
   "cell_type": "markdown",
   "metadata": {},
   "source": [
    "## 4.2 Iris Dataset w/ PCA and LDA"
   ]
  },
  {
   "cell_type": "code",
   "execution_count": null,
   "metadata": {},
   "outputs": [],
   "source": [
    "x_train = x_train[:500]\n",
    "y_train = y_train[:500]\n",
    "X = x_train\n",
    "y = y_train\n",
    "\n",
    "X_r3 = diffusion_matrix_RBF(X, 2, alpha=.5)*1000"
   ]
  },
  {
   "cell_type": "code",
   "execution_count": null,
   "metadata": {
    "scrolled": true
   },
   "outputs": [],
   "source": [
    "print(__doc__)\n",
    "\n",
    "import matplotlib.pyplot as plt\n",
    "\n",
    "from sklearn import datasets\n",
    "from sklearn.decomposition import PCA\n",
    "from sklearn.discriminant_analysis import LinearDiscriminantAnalysis\n",
    "\n",
    "iris = datasets.load_iris()\n",
    "\n",
    "X = iris.data\n",
    "y = iris.target\n",
    "\n",
    "target_names = iris.target_names\n",
    "\n",
    "pca = PCA(n_components=2)\n",
    "X_r = pca.fit(X).transform(X)\n",
    "\n",
    "lda = LinearDiscriminantAnalysis(n_components=2)\n",
    "X_r2 = lda.fit(X, y).transform(X)\n",
    "\n",
    "# Percentage of variance explained for each components\n",
    "print('explained variance ratio (first two components): %s'\n",
    "      % str(pca.explained_variance_ratio_))\n",
    "\n",
    "plt.figure()\n",
    "colors = ['navy', 'turquoise', 'darkorange']\n",
    "lw = 2\n",
    "\n",
    "for color, i, target_name in zip(colors, [0, 1, 2], target_names):\n",
    "    plt.scatter(X_r[y == i, 0], X_r[y == i, 1], color=color, alpha=.8, lw=lw,\n",
    "                label=target_name)\n",
    "plt.legend(loc='best', shadow=False, scatterpoints=1)\n",
    "plt.title('PCA of IRIS dataset')\n",
    "\n",
    "plt.figure()\n",
    "for color, i, target_name in zip(colors, [0, 1, 2], target_names):\n",
    "    plt.scatter(X_r2[y == i, 0], X_r2[y == i, 1], alpha=.8, color=color,\n",
    "                label=target_name)\n",
    "plt.legend(loc='best', shadow=False, scatterpoints=1)\n",
    "plt.title('LDA of IRIS dataset')\n",
    "\n",
    "\n",
    "plt.figure()\n",
    "for color, i, target_name in zip(colors, [0, 1, 2], target_names):\n",
    "    plt.scatter(X_r3[y == i, 0], X_r3[y == i, 1], alpha=.8, color=color,\n",
    "                label=target_name)\n",
    "plt.legend(loc='best', shadow=False, scatterpoints=1)\n",
    "plt.title('Diffusion Map of IRIS dataset')\n",
    "\n",
    "plt.show()"
   ]
  },
  {
   "cell_type": "markdown",
   "metadata": {},
   "source": [
    "## 4.3 Iris Dataset w/ Diffusion "
   ]
  },
  {
   "cell_type": "code",
   "execution_count": null,
   "metadata": {},
   "outputs": [],
   "source": [
    "print(__doc__)\n",
    "\n",
    "import matplotlib.pyplot as plt\n",
    "\n",
    "from sklearn import datasets\n",
    "from sklearn.decomposition import PCA\n",
    "from sklearn.discriminant_analysis import LinearDiscriminantAnalysis\n",
    "\n",
    "iris = datasets.load_iris()\n",
    "\n",
    "X = x_train\n",
    "y = y_train\n",
    "\n",
    "target_names = iris.target_names\n",
    "\n",
    "pca = PCA(n_components=2)\n",
    "X_r = pca.fit(X).transform(X)\n",
    "\n",
    "lda = LinearDiscriminantAnalysis(n_components=2)\n",
    "X_r2 = lda.fit(X, y).transform(X)\n",
    "\n",
    "# Percentage of variance explained for each components\n",
    "print('explained variance ratio (first two components): %s'\n",
    "      % str(pca.explained_variance_ratio_))\n",
    "\n",
    "plt.figure()\n",
    "colors = ['navy', 'turquoise', 'darkorange', 'red', 'blue', 'green', 'orange', 'black', 'purple', 'pink']\n",
    "lw = 2\n",
    "\n",
    "for color, i, target_name in zip(colors, [0, 1, 2, 3, 4, 5, 6, 7, 8, 9], target_names):\n",
    "    plt.scatter(X_r[y == i, 0], X_r[y == i, 1], color=color, alpha=.8, lw=lw,\n",
    "                label=target_name)\n",
    "plt.legend(loc='best', shadow=False, scatterpoints=1)\n",
    "plt.title('PCA of IRIS dataset')\n",
    "\n",
    "plt.figure()\n",
    "for color, i, target_name in zip(colors, [0, 1, 2, 3, 4, 5, 6, 7, 8, 9], target_names):\n",
    "    plt.scatter(X_r2[y == i, 0], X_r2[y == i, 1], alpha=.8, color=color,\n",
    "                label=target_name)\n",
    "plt.legend(loc='best', shadow=False, scatterpoints=1)\n",
    "plt.title('LDA of IRIS dataset')\n",
    "\n",
    "\n",
    "plt.figure()\n",
    "for color, i, target_name in zip(colors, [0, 1, 2, 3, 4, 5, 6, 7, 8, 9], target_names):\n",
    "    plt.scatter(X_r3[y == i, 0], X_r3[y == i, 1], alpha=.8, color=color,\n",
    "                label=target_name)\n",
    "plt.legend(loc='best', shadow=False, scatterpoints=1)\n",
    "plt.title('Diffusion Map of IRIS dataset')\n",
    "\n",
    "plt.show()"
   ]
  },
  {
   "cell_type": "code",
   "execution_count": null,
   "metadata": {
    "collapsed": true
   },
   "outputs": [],
   "source": []
  }
 ],
 "metadata": {
  "colab": {
   "collapsed_sections": [],
   "name": "Diffusion Map",
   "provenance": [],
   "version": "0.3.2"
  },
  "kernelspec": {
   "display_name": "Python 3",
   "language": "python",
   "name": "python3"
  },
  "language_info": {
   "codemirror_mode": {
    "name": "ipython",
    "version": 3
   },
   "file_extension": ".py",
   "mimetype": "text/x-python",
   "name": "python",
   "nbconvert_exporter": "python",
   "pygments_lexer": "ipython3",
   "version": "3.5.2"
  }
 },
 "nbformat": 4,
 "nbformat_minor": 1
}
