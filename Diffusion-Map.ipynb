{
 "cells": [
  {
   "cell_type": "code",
   "execution_count": 1,
   "metadata": {
    "colab": {},
    "colab_type": "code",
    "collapsed": true,
    "id": "AhP6pxC9IyJn"
   },
   "outputs": [],
   "source": [
    "import numpy as np"
   ]
  },
  {
   "cell_type": "code",
   "execution_count": 76,
   "metadata": {},
   "outputs": [],
   "source": [
    "data  = np.random.rand(6,6)*1000 # some random data"
   ]
  },
  {
   "cell_type": "markdown",
   "metadata": {},
   "source": [
    "### 3.1 Connectivity"
   ]
  },
  {
   "cell_type": "code",
   "execution_count": 77,
   "metadata": {
    "collapsed": true
   },
   "outputs": [],
   "source": [
    "def RBF(x, y, alpha=1):\n",
    "    \"\"\" Gaussian kernel for two vectors x and y. With neighborhood distance alpha.\n",
    "    \n",
    "    Arguments:\n",
    "        - x : First vector\n",
    "        - y : second vector\n",
    "        - alpha: neighborhood factor. *Note bigger alpha increases RBF value.\n",
    "    \n",
    "    return: Real num in [0, 1]\n",
    "    \"\"\"\n",
    "    return np.exp(-np.linalg.norm(np.array(x) - np.array(y))**2 / alpha)"
   ]
  },
  {
   "cell_type": "code",
   "execution_count": 78,
   "metadata": {},
   "outputs": [],
   "source": [
    "# calculation check\n",
    "assert((RBF([0,0], [1,1], 1) - np.exp(-2)) < 0.0001)\n",
    "assert((RBF([0,0], [0,0], 1) - 1 < 0.0001))"
   ]
  },
  {
   "cell_type": "code",
   "execution_count": 87,
   "metadata": {
    "collapsed": true
   },
   "outputs": [],
   "source": [
    "def kernelize(data, k, alpha=1):\n",
    "    \"\"\" Given some data convert it to a kernel matrix using some given kernel.\n",
    "    \n",
    "    Arguments:\n",
    "        data : Data matrix (N, C)\n",
    "        k: Kernel function\n",
    "        alpha: neighborhood factor. *Note bigger alpha increases kernel function value.\n",
    "    \"\"\"\n",
    "    pass"
   ]
  },
  {
   "cell_type": "markdown",
   "metadata": {},
   "source": [
    "### 3.3 Diffusion Distance"
   ]
  },
  {
   "cell_type": "code",
   "execution_count": 89,
   "metadata": {
    "collapsed": true
   },
   "outputs": [],
   "source": [
    "# Note theres no square in the diffusion distance\n",
    "def diffusion_dist(i, j, P):\n",
    "    \"\"\" Computes the diffusion distance between two vectors X_i and X_j.\n",
    "    \n",
    "    Arguments:\n",
    "        i: index for the first data point\n",
    "        j: index for the second data point\n",
    "        P: Probability matrix P[i, j] is the probability to go from i to j.\n",
    "    \"\"\"\n",
    "    return np.linalg.norm(P[i, :] - P[j, :])**2"
   ]
  },
  {
   "cell_type": "markdown",
   "metadata": {},
   "source": [
    "### 3.4 Diffusion Map"
   ]
  },
  {
   "cell_type": "code",
   "execution_count": null,
   "metadata": {
    "collapsed": true
   },
   "outputs": [],
   "source": []
  }
 ],
 "metadata": {
  "colab": {
   "collapsed_sections": [],
   "name": "Diffusion Map",
   "provenance": [],
   "version": "0.3.2"
  },
  "kernelspec": {
   "display_name": "Python 3",
   "language": "python",
   "name": "python3"
  },
  "language_info": {
   "codemirror_mode": {
    "name": "ipython",
    "version": 3
   },
   "file_extension": ".py",
   "mimetype": "text/x-python",
   "name": "python",
   "nbconvert_exporter": "python",
   "pygments_lexer": "ipython3",
   "version": "3.5.2"
  }
 },
 "nbformat": 4,
 "nbformat_minor": 1
}
