{
 "cells": [
  {
   "cell_type": "markdown",
   "metadata": {},
   "source": [
    "# Implementation of Diffuision Maps using Random Forest Kernel"
   ]
  },
  {
   "cell_type": "code",
   "execution_count": 5,
   "metadata": {
    "collapsed": true
   },
   "outputs": [],
   "source": [
    "import numpy as np\n",
    "import pandas as pd\n",
    "import matplotlib.pyplot as plt\n",
    "import tensorflow as tf\n",
    "from sklearn.ensemble import RandomForestClassifier\n",
    "from scipy import misc"
   ]
  },
  {
   "cell_type": "markdown",
   "metadata": {},
   "source": [
    "## 1 Setup Random Forest Kernel"
   ]
  },
  {
   "cell_type": "markdown",
   "metadata": {},
   "source": [
    "### 1.1 Load MNIST Dataset"
   ]
  },
  {
   "cell_type": "code",
   "execution_count": 6,
   "metadata": {},
   "outputs": [],
   "source": [
    "# Load MNIST dataset\n",
    "(MNIST_X, MNIST_y), (x_test, y_test) = tf.keras.datasets.mnist.load_data()"
   ]
  },
  {
   "cell_type": "code",
   "execution_count": 7,
   "metadata": {},
   "outputs": [
    {
     "name": "stdout",
     "output_type": "stream",
     "text": [
      "x_train shape: (60000, 784)\n",
      "Number of images in x_train 60000\n",
      "Number of images in x_test 10000\n"
     ]
    }
   ],
   "source": [
    "# Reshaping the array to 4-dims so that it can work with the Keras API\n",
    "MNIST_X = MNIST_X.reshape(len(MNIST_X),-1)\n",
    "x_test = x_test.reshape(len(x_test),-1)\n",
    "\n",
    "# Making sure that the values are float so that we can get decimal points after division\n",
    "MNIST_X = MNIST_X.astype('float32')\n",
    "x_test = x_test.astype('float32')\n",
    "\n",
    "# Normalizing the RGB codes by dividing it to the max RGB value.\n",
    "MNIST_X /= 255\n",
    "x_test /= 255\n",
    "print('x_train shape:', MNIST_X.shape)\n",
    "print('Number of images in x_train', MNIST_X.shape[0])\n",
    "print('Number of images in x_test', x_test.shape[0])"
   ]
  },
  {
   "cell_type": "markdown",
   "metadata": {},
   "source": [
    "### 1.2 Load IRIS Dataset"
   ]
  },
  {
   "cell_type": "code",
   "execution_count": 8,
   "metadata": {
    "collapsed": true
   },
   "outputs": [],
   "source": [
    "from sklearn import datasets\n",
    "\n",
    "iris = datasets.load_iris()\n",
    "\n",
    "IRIS_X = iris.data\n",
    "IRIS_y = iris.target\n",
    "\n",
    "target_names = iris.target_names"
   ]
  },
  {
   "cell_type": "markdown",
   "metadata": {},
   "source": [
    "### 1.3 RFK Matrix Using MNIST"
   ]
  },
  {
   "cell_type": "code",
   "execution_count": 9,
   "metadata": {
    "collapsed": true
   },
   "outputs": [],
   "source": [
    "from sklearn.ensemble import RandomForestClassifier\n",
    "\n",
    "def RFK(x_train, y_train, num_trees=100, depth=5): \n",
    "    \"\"\"Creates the random forest kernel matrix using 100 trees with depth 5.\n",
    "    \n",
    "    Arguments:\n",
    "        - x_train: Training data\n",
    "        - y_train: Training labels\n",
    "        - num_trees: Determines the number of trees that random forest will make\n",
    "        - depth: Max depth of each tree\n",
    "    \"\"\"\n",
    "    # Build classifier\n",
    "    RF = RandomForestClassifier(n_estimators=num_trees, max_depth=depth, random_state=0)\n",
    "    RF.fit(x_train, y_train)\n",
    "\n",
    "    # Get the nodes that they end up on\n",
    "    \"\"\"\n",
    "    # Rows = Image index\n",
    "    # Columns = tree index\n",
    "    # final_nodes[i, j] = the leaf node that input i landed at for tree j\n",
    "    \"\"\"\n",
    "    final_nodes = RF.apply(x_train)\n",
    "\n",
    "    \n",
    "    # TODO Optimize l8r\n",
    "    num_data = len(x_train)\n",
    "\n",
    "    num_trees = final_nodes.shape[1]\n",
    "    K = np.zeros((num_data,num_data))\n",
    "\n",
    "    # For each tree\n",
    "    for j in range(100):\n",
    "        tmp_P = []\n",
    "        for i in range(num_data):        \n",
    "            s = np.array([int(final_nodes[i][j] == leaf) for leaf in final_nodes[:, j]])\n",
    "            tmp_P.append(s)\n",
    "        K += np.array(tmp_P)\n",
    "\n",
    "    return K"
   ]
  },
  {
   "cell_type": "markdown",
   "metadata": {},
   "source": [
    "## 2 Setup Diffusion Map"
   ]
  },
  {
   "cell_type": "code",
   "execution_count": 10,
   "metadata": {
    "collapsed": true
   },
   "outputs": [],
   "source": [
    "# Note theres no square in the diffusion distance\n",
    "def diffusion_dist(i, j):\n",
    "    \"\"\" Computes the diffusion distance between two vectors X_i and X_j.\n",
    "    \n",
    "    Arguments:\n",
    "        i: first vector\n",
    "        j: second vector\n",
    "    \"\"\"\n",
    "    return np.linalg.norm(i - j)**2"
   ]
  },
  {
   "cell_type": "code",
   "execution_count": 69,
   "metadata": {
    "collapsed": true
   },
   "outputs": [],
   "source": [
    "# TODO CONVERT ME\n",
    "def diffusion_map_RFK(train_x, train_y, m, t=1):\n",
    "    \"\"\" Comptues the diffusion matrix for a given data set using the RFK function. \n",
    "    Reduces the dimensionality of each data point to size m.\n",
    "    \n",
    "    Arguments:\n",
    "        train_x: (N, C) matrix of data points. Each point is a row vector.\n",
    "        train_x: (N, ) column vector of training labels.\n",
    "        m: New reeduced dimension size of matrix. m <= C.\n",
    "        alpha: Neighborhood size for RBF kernel\n",
    "    \"\"\"\n",
    "    N, C = train_x.shape\n",
    "    # Valid dimensionality reduction request\n",
    "    if (m < 1) or (m > C):\n",
    "        raise Exception('Bad reduced dimension. Make sure m is with [1, rank(data)] %d > %d' % (m, C))\n",
    "        \n",
    "    diffusion_matrix = []\n",
    "    \n",
    "    # 1. Define a kernel K    \n",
    "    kernel_matrix = RFK(train_x, train_y) \n",
    "    \n",
    "    # 2. Create diffusion matrix (P - the row normalized kernel)\n",
    "    P = kernel_matrix / np.sum(kernel_matrix, axis=1).reshape(-1, 1)\n",
    "    P = np.linalg.matrix_power(P, t)\n",
    "        \n",
    "    # 3. Calculate the eigenvectors of the diffusion matrix.\n",
    "    eigen_vals, eigen_vecs = np.linalg.eig(P)     \n",
    "    \n",
    "    idx = np.argsort(eigen_vals)[::-1]\n",
    "    eigen_vecs = eigen_vecs[:, idx]\n",
    "    eigen_vals = eigen_vals[idx]\n",
    "\n",
    "    #eigen_vals = eigen_vals**t\n",
    "    \n",
    "    # 4. Map to the d-dimensional diffusion space at time t, \n",
    "    #    using the d dominant eigenvectors and -values as\n",
    "    for i in range(len(train_x)):\n",
    "        row = (eigen_vals[i] * eigen_vecs[i , :])\n",
    "        # Reduce the diffusion matrix to dimension m\n",
    "        diffusion_matrix.append(row[:m])\n",
    "        \n",
    "    return np.array(diffusion_matrix)"
   ]
  },
  {
   "cell_type": "code",
   "execution_count": 73,
   "metadata": {},
   "outputs": [],
   "source": [
    "DM = diffusion_map_RFK(IRIS_X, IRIS_y, 2, t=1)"
   ]
  },
  {
   "cell_type": "code",
   "execution_count": 81,
   "metadata": {},
   "outputs": [
    {
     "name": "stderr",
     "output_type": "stream",
     "text": [
      "/Library/Frameworks/Python.framework/Versions/3.5/lib/python3.5/site-packages/numpy/core/numeric.py:583: ComplexWarning: Casting complex values to real discards the imaginary part\n",
      "  return array(a, dtype, copy=False, order=order, subok=True)\n"
     ]
    },
    {
     "data": {
      "image/png": "[encoded data removed]",
      "text/plain": [
       "<matplotlib.figure.Figure at 0x12446e438>"
      ]
     },
     "metadata": {},
     "output_type": "display_data"
    }
   ],
   "source": [
    "X_r3 = diffusion_map_RFK(IRIS_X, IRIS_y, 2, t=1)\n",
    "\n",
    "colors = ['navy', 'turquoise', 'darkorange']\n",
    "plt.figure()\n",
    "for color, i, target_name in zip(colors, [0, 1, 2], target_names):\n",
    "    plt.scatter(X_r3[IRIS_y == i, 0], X_r3[IRIS_y == i, 1], alpha=.5, color=color,\n",
    "                label=target_name)\n",
    "plt.legend(loc='best', shadow=False, scatterpoints=1)\n",
    "plt.title('Diffusion Map of IRIS dataset')\n",
    "\n",
    "plt.show()"
   ]
  },
  {
   "cell_type": "code",
   "execution_count": 82,
   "metadata": {},
   "outputs": [
    {
     "data": {
      "text/plain": [
       "array([ 0.08164966+0.j,  0.09961162+0.j])"
      ]
     },
     "execution_count": 82,
     "metadata": {},
     "output_type": "execute_result"
    }
   ],
   "source": [
    "DM[0]"
   ]
  },
  {
   "cell_type": "code",
   "execution_count": 80,
   "metadata": {},
   "outputs": [
    {
     "name": "stderr",
     "output_type": "stream",
     "text": [
      "/Library/Frameworks/Python.framework/Versions/3.5/lib/python3.5/site-packages/sklearn/utils/validation.py:382: ComplexWarning: Casting complex values to real discards the imaginary part\n",
      "  array = np.array(array, dtype=dtype, order=order, copy=copy)\n"
     ]
    },
    {
     "data": {
      "text/plain": [
       "0.40000000000000002"
      ]
     },
     "execution_count": 80,
     "metadata": {},
     "output_type": "execute_result"
    }
   ],
   "source": [
    "from sklearn import svm\n",
    "clf = svm.SVC(gamma=0.001, C=100., kernel='linear')\n",
    "\n",
    "clf.fit(X_r3, IRIS_y)\n",
    "sum(clf.predict(X_r3) == IRIS_y)/len(IRIS_y)"
   ]
  },
  {
   "cell_type": "code",
   "execution_count": null,
   "metadata": {
    "collapsed": true
   },
   "outputs": [],
   "source": []
  }
 ],
 "metadata": {
  "kernelspec": {
   "display_name": "Python 3",
   "language": "python",
   "name": "python3"
  },
  "language_info": {
   "codemirror_mode": {
    "name": "ipython",
    "version": 3
   },
   "file_extension": ".py",
   "mimetype": "text/x-python",
   "name": "python",
   "nbconvert_exporter": "python",
   "pygments_lexer": "ipython3",
   "version": "3.5.2"
  }
 },
 "nbformat": 4,
 "nbformat_minor": 2
}
