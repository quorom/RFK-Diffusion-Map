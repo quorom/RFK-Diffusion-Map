{
 "cells": [
  {
   "cell_type": "code",
   "execution_count": 1,
   "metadata": {
    "collapsed": true
   },
   "outputs": [],
   "source": [
    "import numpy as np\n",
    "import pandas as pd\n",
    "import matplotlib.pyplot as plt\n",
    "import tensorflow as tf\n",
    "from sklearn.ensemble import RandomForestClassifier\n",
    "from scipy import misc"
   ]
  },
  {
   "cell_type": "markdown",
   "metadata": {},
   "source": [
    "## Load data"
   ]
  },
  {
   "cell_type": "code",
   "execution_count": 2,
   "metadata": {
    "collapsed": true
   },
   "outputs": [],
   "source": [
    "# Load MNIST dataset\n",
    "(x_train, y_train), (x_test, y_test) = tf.keras.datasets.mnist.load_data()"
   ]
  },
  {
   "cell_type": "code",
   "execution_count": 3,
   "metadata": {},
   "outputs": [
    {
     "name": "stdout",
     "output_type": "stream",
     "text": [
      "x_train shape: (60000, 784)\n",
      "Number of images in x_train 60000\n",
      "Number of images in x_test 10000\n"
     ]
    }
   ],
   "source": [
    "# Reshaping the array to 4-dims so that it can work with the Keras API\n",
    "x_train = x_train.reshape(len(x_train),-1)\n",
    "x_test = x_test.reshape(len(x_test),-1)\n",
    "\n",
    "# Making sure that the values are float so that we can get decimal points after division\n",
    "x_train = x_train.astype('float32')\n",
    "x_test = x_test.astype('float32')\n",
    "\n",
    "# Normalizing the RGB codes by dividing it to the max RGB value.\n",
    "x_train /= 255\n",
    "x_test /= 255\n",
    "print('x_train shape:', x_train.shape)\n",
    "print('Number of images in x_train', x_train.shape[0])\n",
    "print('Number of images in x_test', x_test.shape[0])"
   ]
  },
  {
   "cell_type": "markdown",
   "metadata": {},
   "source": [
    "## Build Classifier"
   ]
  },
  {
   "cell_type": "code",
   "execution_count": 4,
   "metadata": {
    "collapsed": true
   },
   "outputs": [],
   "source": [
    "# TODO\n",
    "# One thing that will play a huge role in this is changing the depth.. smaller depth equates to higher chance of \n",
    "# two images falling into the same node"
   ]
  },
  {
   "cell_type": "code",
   "execution_count": 5,
   "metadata": {},
   "outputs": [
    {
     "data": {
      "text/plain": [
       "RandomForestClassifier(bootstrap=True, class_weight=None, criterion='gini',\n",
       "            max_depth=5, max_features='auto', max_leaf_nodes=None,\n",
       "            min_impurity_split=1e-07, min_samples_leaf=1,\n",
       "            min_samples_split=2, min_weight_fraction_leaf=0.0,\n",
       "            n_estimators=100, n_jobs=1, oob_score=False, random_state=0,\n",
       "            verbose=0, warm_start=False)"
      ]
     },
     "execution_count": 5,
     "metadata": {},
     "output_type": "execute_result"
    }
   ],
   "source": [
    "RF = RandomForestClassifier(n_estimators=100, max_depth=5, random_state=0)\n",
    "RF.fit(x_train[:500], y_train[:500])"
   ]
  },
  {
   "cell_type": "code",
   "execution_count": 6,
   "metadata": {},
   "outputs": [
    {
     "data": {
      "text/plain": [
       "0.77390000000000003"
      ]
     },
     "execution_count": 6,
     "metadata": {},
     "output_type": "execute_result"
    }
   ],
   "source": [
    "count = 0.0\n",
    "#sum(RF.predict(x_train[:500]) == y_train[:500])/500.0\n",
    "sum(RF.predict(x_test) == y_test)/len(y_test)"
   ]
  },
  {
   "cell_type": "code",
   "execution_count": 7,
   "metadata": {},
   "outputs": [
    {
     "data": {
      "text/plain": [
       "array([[ 5, 27, 36, ..., 57, 28, 23],\n",
       "       [ 9, 56, 55, ..., 25, 11, 36],\n",
       "       [ 5, 41, 36, ...,  5, 34, 16],\n",
       "       ..., \n",
       "       [ 8, 31,  5, ...,  8, 22, 46],\n",
       "       [28, 27, 36, ..., 12, 49, 15],\n",
       "       [23, 50, 47, ..., 49, 13, 44]])"
      ]
     },
     "execution_count": 7,
     "metadata": {},
     "output_type": "execute_result"
    }
   ],
   "source": [
    "# Rows = Image index\n",
    "# Columns = tree index\n",
    "# final_nodes[i, j] = the leaf node that input i landed at for tree j\n",
    "final_nodes = RF.apply(x_train[:500])\n",
    "final_nodes"
   ]
  },
  {
   "cell_type": "code",
   "execution_count": 8,
   "metadata": {},
   "outputs": [
    {
     "name": "stdout",
     "output_type": "stream",
     "text": [
      "CPU times: user 28.8 s, sys: 306 ms, total: 29.1 s\n",
      "Wall time: 31.8 s\n"
     ]
    }
   ],
   "source": [
    "%%time\n",
    "# TODO Optimize l8r\n",
    "num_data = 500\n",
    "\n",
    "num_trees = final_nodes.shape[1]\n",
    "P = np.zeros((num_data,num_data))\n",
    "\n",
    "# For each tree\n",
    "for j in range(100):\n",
    "    tmp_P = []\n",
    "    for i in range(num_data):        \n",
    "        s = np.array([int(final_nodes[i][j] == leaf) for leaf in final_nodes[:, j]])\n",
    "        tmp_P.append(s)\n",
    "    P += np.array(tmp_P)"
   ]
  },
  {
   "cell_type": "code",
   "execution_count": 9,
   "metadata": {
    "collapsed": true
   },
   "outputs": [],
   "source": [
    "row_sum = np.sum(P, axis=1)\n",
    "P_normed = P / row_sum"
   ]
  },
  {
   "cell_type": "code",
   "execution_count": 10,
   "metadata": {},
   "outputs": [
    {
     "data": {
      "text/plain": [
       "array([[ 100.,    2.,   10., ...,    3.,   12.,    4.],\n",
       "       [   2.,  100.,    0., ...,    1.,    2.,    0.],\n",
       "       [  10.,    0.,  100., ...,    5.,    8.,    0.],\n",
       "       ..., \n",
       "       [   3.,    1.,    5., ...,  100.,    4.,   11.],\n",
       "       [  12.,    2.,    8., ...,    4.,  100.,    4.],\n",
       "       [   4.,    0.,    0., ...,   11.,    4.,  100.]])"
      ]
     },
     "execution_count": 10,
     "metadata": {},
     "output_type": "execute_result"
    }
   ],
   "source": [
    "P"
   ]
  },
  {
   "cell_type": "code",
   "execution_count": 11,
   "metadata": {},
   "outputs": [
    {
     "data": {
      "image/png": "[encoded data removed]",
      "text/plain": [
       "<matplotlib.figure.Figure at 0x113b75278>"
      ]
     },
     "metadata": {},
     "output_type": "display_data"
    }
   ],
   "source": [
    "plt.ylim=1\n",
    "plt.plot(np.arange(500), sorted(P_normed[0,:]))\n",
    "plt.show()"
   ]
  },
  {
   "cell_type": "code",
   "execution_count": 12,
   "metadata": {
    "collapsed": true
   },
   "outputs": [],
   "source": [
    "'''\n",
    "this diffusion map function takes a Kernel matrix and output the Distance matrix\n",
    "input: - K: Kernel Matrix (n x n)\n",
    "       - m: Number of dimensions to reduce to\n",
    "output: - D: Distance Matrix (n x n)\n",
    "'''\n",
    "import time\n",
    "def diffusion(K, m):\n",
    "  \n",
    "  assert K.shape[0] == K.shape[1] # testing that K is a n x n square matrix\n",
    "  \n",
    "  # normalized P\n",
    "  P = K / np.sum(K, axis=1)\n",
    "  \n",
    "  # compute the eigenvalues and eigenvectors\n",
    "  # this can be very expensive...\n",
    "  eig_time = time.time()\n",
    "  eig_vals, eig_vecs = np.linalg.eig(P)\n",
    "  print('time to compute eigenvalues / eigenvectors took {} secs'.format(time.time() - eig_time))\n",
    "  # sorting the eigenvectors according to its dimensions\n",
    "  idx = np.argsort(eig_vals)[::-1]\n",
    "  eig_vals, eig_vecs = np.matrix(eig_vals[idx]), np.matrix(eig_vecs[:, idx])\n",
    "  assert eig_vals[0, 0] >= eig_vals[0, 1]\n",
    "  print(\"shape of eigenvectors: {}\".format(eig_vecs.shape))\n",
    "\n",
    "  # build feature projected matrix Y' (n x m)\n",
    "  Y_prime = np.zeros((0, K.shape[1]))\n",
    "  Y_prime_time = time.time()\n",
    "  for i in range(m):\n",
    "    Y_prime = np.vstack((Y_prime, np.multiply(eig_vals.T, eig_vecs[:, i].T)))\n",
    "  print('time to compute Y prime matrix took {} secs'.format(time.time() - Y_prime_time))\n",
    "  \n",
    "  # compute the distance matrix using Y' matrix\n",
    "  D = np.zeros(P.shape)\n",
    "  D_time = time.time()\n",
    "  for i in range(K.shape[0]):\n",
    "    for j in range(i, K.shape[1]):\n",
    "      # probably have a better numpy function that does this two for-loop\n",
    "      # this method needs significant improvement\n",
    "      D[i, j] = D[j, i] = np.linalg.norm(Y_prime[i, :] - Y_prime[j, :]) ** 2\n",
    "  print('time to compute D matrix took {} secs'.format(time.time() - D_time))\n",
    "  return D"
   ]
  },
  {
   "cell_type": "code",
   "execution_count": 13,
   "metadata": {},
   "outputs": [
    {
     "name": "stdout",
     "output_type": "stream",
     "text": [
      "time to compute eigenvalues / eigenvectors took 0.2833271026611328 secs\n",
      "shape of eigenvectors: (500, 500)\n",
      "time to compute Y prime matrix took 0.16899490356445312 secs\n",
      "time to compute D matrix took 3.507473945617676 secs\n"
     ]
    }
   ],
   "source": [
    "dist_matrx = diffusion(P, 15)"
   ]
  },
  {
   "cell_type": "code",
   "execution_count": 14,
   "metadata": {},
   "outputs": [
    {
     "data": {
      "text/plain": [
       "array([[  0.00000000e+00,   5.39973148e-02,   8.49859502e-02, ...,\n",
       "          9.99458863e-01,   9.99498940e-01,   9.99658408e-01],\n",
       "       [  5.39973148e-02,   0.00000000e+00,   3.49875509e-03, ...,\n",
       "          5.88835494e-01,   5.88866256e-01,   5.88988661e-01],\n",
       "       [  8.49859502e-02,   3.49875509e-03,   0.00000000e+00, ...,\n",
       "          5.01555591e-01,   5.01583982e-01,   5.01696952e-01],\n",
       "       ..., \n",
       "       [  9.99458863e-01,   5.88835494e-01,   5.01555591e-01, ...,\n",
       "          0.00000000e+00,   4.01757795e-10,   9.95902792e-09],\n",
       "       [  9.99498940e-01,   5.88866256e-01,   5.01583982e-01, ...,\n",
       "          4.01757795e-10,   0.00000000e+00,   6.36022720e-09],\n",
       "       [  9.99658408e-01,   5.88988661e-01,   5.01696952e-01, ...,\n",
       "          9.95902792e-09,   6.36022720e-09,   0.00000000e+00]])"
      ]
     },
     "execution_count": 14,
     "metadata": {},
     "output_type": "execute_result"
    }
   ],
   "source": [
    "dist_matrx"
   ]
  }
 ],
 "metadata": {
  "kernelspec": {
   "display_name": "Python 3",
   "language": "python",
   "name": "python3"
  },
  "language_info": {
   "codemirror_mode": {
    "name": "ipython",
    "version": 3
   },
   "file_extension": ".py",
   "mimetype": "text/x-python",
   "name": "python",
   "nbconvert_exporter": "python",
   "pygments_lexer": "ipython3",
   "version": "3.5.2"
  }
 },
 "nbformat": 4,
 "nbformat_minor": 2
}
