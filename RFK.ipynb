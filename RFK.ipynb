{
 "cells": [
  {
   "cell_type": "markdown",
   "metadata": {},
   "source": [
    "# Implementation the Random Forest Kernel"
   ]
  },
  {
   "cell_type": "code",
   "execution_count": 2,
   "metadata": {
    "collapsed": true
   },
   "outputs": [],
   "source": [
    "import numpy as np\n",
    "import pandas as pd\n",
    "import matplotlib.pyplot as plt\n",
    "import tensorflow as tf\n",
    "from sklearn.ensemble import RandomForestClassifier\n",
    "from scipy import misc"
   ]
  },
  {
   "cell_type": "markdown",
   "metadata": {},
   "source": [
    "## 1 Setup for RFK"
   ]
  },
  {
   "cell_type": "markdown",
   "metadata": {},
   "source": [
    "### 1.1 Load MNIST"
   ]
  },
  {
   "cell_type": "code",
   "execution_count": 3,
   "metadata": {
    "collapsed": true
   },
   "outputs": [],
   "source": [
    "# Load MNIST dataset\n",
    "(x_train, y_train), (x_test, y_test) = tf.keras.datasets.mnist.load_data()"
   ]
  },
  {
   "cell_type": "code",
   "execution_count": 4,
   "metadata": {},
   "outputs": [
    {
     "name": "stdout",
     "output_type": "stream",
     "text": [
      "x_train shape: (60000, 784)\n",
      "Number of images in x_train 60000\n",
      "Number of images in x_test 10000\n"
     ]
    }
   ],
   "source": [
    "# Reshaping the array to 4-dims so that it can work with the Keras API\n",
    "x_train = x_train.reshape(len(x_train),-1)\n",
    "x_test = x_test.reshape(len(x_test),-1)\n",
    "\n",
    "# Making sure that the values are float so that we can get decimal points after division\n",
    "x_train = x_train.astype('float32')\n",
    "x_test = x_test.astype('float32')\n",
    "\n",
    "# Normalizing the RGB codes by dividing it to the max RGB value.\n",
    "x_train /= 255\n",
    "x_test /= 255\n",
    "print('x_train shape:', x_train.shape)\n",
    "print('Number of images in x_train', x_train.shape[0])\n",
    "print('Number of images in x_test', x_test.shape[0])"
   ]
  },
  {
   "cell_type": "markdown",
   "metadata": {},
   "source": [
    "### 1.2 Build a Random Forrest Classifier"
   ]
  },
  {
   "cell_type": "code",
   "execution_count": 5,
   "metadata": {
    "collapsed": true
   },
   "outputs": [],
   "source": [
    "# TODO\n",
    "# One thing that will play a huge role in this is changing the depth.. smaller depth equates to higher chance of \n",
    "# two images falling into the same node"
   ]
  },
  {
   "cell_type": "code",
   "execution_count": 6,
   "metadata": {},
   "outputs": [
    {
     "data": {
      "text/plain": [
       "RandomForestClassifier(bootstrap=True, class_weight=None, criterion='gini',\n",
       "            max_depth=5, max_features='auto', max_leaf_nodes=None,\n",
       "            min_impurity_split=1e-07, min_samples_leaf=1,\n",
       "            min_samples_split=2, min_weight_fraction_leaf=0.0,\n",
       "            n_estimators=100, n_jobs=1, oob_score=False, random_state=0,\n",
       "            verbose=0, warm_start=False)"
      ]
     },
     "execution_count": 6,
     "metadata": {},
     "output_type": "execute_result"
    }
   ],
   "source": [
    "RF = RandomForestClassifier(n_estimators=100, max_depth=5, random_state=0)\n",
    "RF.fit(x_train[:500], y_train[:500])"
   ]
  },
  {
   "cell_type": "code",
   "execution_count": 7,
   "metadata": {},
   "outputs": [
    {
     "data": {
      "text/plain": [
       "0.77390000000000003"
      ]
     },
     "execution_count": 7,
     "metadata": {},
     "output_type": "execute_result"
    }
   ],
   "source": [
    "# Check the accuracy\n",
    "count = 0.0\n",
    "sum(RF.predict(x_test) == y_test)/len(y_test)"
   ]
  },
  {
   "cell_type": "markdown",
   "metadata": {},
   "source": [
    "### 1.3 Final Leaf Nodes"
   ]
  },
  {
   "cell_type": "code",
   "execution_count": 8,
   "metadata": {},
   "outputs": [
    {
     "data": {
      "text/plain": [
       "array([[ 5, 27, 36, ..., 57, 28, 23],\n",
       "       [ 9, 56, 55, ..., 25, 11, 36],\n",
       "       [ 5, 41, 36, ...,  5, 34, 16],\n",
       "       ..., \n",
       "       [ 8, 31,  5, ...,  8, 22, 46],\n",
       "       [28, 27, 36, ..., 12, 49, 15],\n",
       "       [23, 50, 47, ..., 49, 13, 44]])"
      ]
     },
     "execution_count": 8,
     "metadata": {},
     "output_type": "execute_result"
    }
   ],
   "source": [
    "final_nodes = RF.apply(x_train[:500])\n",
    "final_nodes"
   ]
  },
  {
   "cell_type": "markdown",
   "metadata": {},
   "source": [
    "### 1.4 Build the Random Forest Kernel\n",
    "$$\n",
    "K_{rf}(x, y) = \\frac{\\text{# of times x and y end at same leaf node}}{\\text{# of leaves}}\n",
    "$$"
   ]
  },
  {
   "cell_type": "code",
   "execution_count": 10,
   "metadata": {},
   "outputs": [
    {
     "name": "stdout",
     "output_type": "stream",
     "text": [
      "CPU times: user 28.7 s, sys: 205 ms, total: 28.9 s\n",
      "Wall time: 29.3 s\n"
     ]
    }
   ],
   "source": [
    "%%time\n",
    "num_data = 500\n",
    "\n",
    "num_trees = final_nodes.shape[1]\n",
    "P = np.zeros((num_data,num_data))\n",
    "\n",
    "# For each tree\n",
    "for j in range(100):\n",
    "    tmp_P = []\n",
    "    for i in range(num_data):        \n",
    "        s = np.array([int(final_nodes[i][j] == leaf) for leaf in final_nodes[:, j]])\n",
    "        tmp_P.append(s)\n",
    "    P += np.array(tmp_P)"
   ]
  },
  {
   "cell_type": "code",
   "execution_count": 11,
   "metadata": {},
   "outputs": [
    {
     "data": {
      "text/plain": [
       "array([[ 100.,    2.,   10., ...,    3.,   12.,    4.],\n",
       "       [   2.,  100.,    0., ...,    1.,    2.,    0.],\n",
       "       [  10.,    0.,  100., ...,    5.,    8.,    0.],\n",
       "       ..., \n",
       "       [   3.,    1.,    5., ...,  100.,    4.,   11.],\n",
       "       [  12.,    2.,    8., ...,    4.,  100.,    4.],\n",
       "       [   4.,    0.,    0., ...,   11.,    4.,  100.]])"
      ]
     },
     "execution_count": 11,
     "metadata": {},
     "output_type": "execute_result"
    }
   ],
   "source": [
    "P"
   ]
  },
  {
   "cell_type": "markdown",
   "metadata": {},
   "source": [
    "## 2 RFK In One Function"
   ]
  },
  {
   "cell_type": "code",
   "execution_count": 18,
   "metadata": {
    "collapsed": true
   },
   "outputs": [],
   "source": [
    "from sklearn.ensemble import RandomForestClassifier\n",
    "\n",
    "def RFK(x_train, y_train, num_trees=100, depth=5): \n",
    "    \"\"\"Creates the random forest kernel matrix using 100 trees with depth 5.\n",
    "    \n",
    "    Arguments:\n",
    "        - x_train: Training data\n",
    "        - y_train: Training labels\n",
    "        - num_trees: Determines the number of trees that random forest will make\n",
    "        - depth: Max depth of each tree\n",
    "    \"\"\"\n",
    "    # Build classifier\n",
    "    RF = RandomForestClassifier(n_estimators=num_trees, max_depth=depth, random_state=0)\n",
    "    RF.fit(x_train, y_train)\n",
    "\n",
    "    # Get the nodes that they end up on\n",
    "    \"\"\"\n",
    "    # Rows = Image index\n",
    "    # Columns = tree index\n",
    "    # final_nodes[i, j] = the leaf node that input i landed at for tree j\n",
    "    \"\"\"\n",
    "    final_nodes = RF.apply(x_train)\n",
    "\n",
    "    \n",
    "    # TODO Optimize l8r\n",
    "    num_data = len(x_train)\n",
    "\n",
    "    num_trees = final_nodes.shape[1]\n",
    "    K = np.zeros((num_data,num_data))\n",
    "\n",
    "    # For each tree\n",
    "    for j in range(100):\n",
    "        tmp_P = []\n",
    "        for i in range(num_data):        \n",
    "            s = np.array([int(final_nodes[i][j] == leaf) for leaf in final_nodes[:, j]])\n",
    "            tmp_P.append(s)\n",
    "        K += np.array(tmp_P)\n",
    "\n",
    "    return K"
   ]
  },
  {
   "cell_type": "code",
   "execution_count": 19,
   "metadata": {},
   "outputs": [
    {
     "data": {
      "text/plain": [
       "array([[ 100.,    2.,   10., ...,    3.,   12.,    4.],\n",
       "       [   2.,  100.,    0., ...,    1.,    2.,    0.],\n",
       "       [  10.,    0.,  100., ...,    5.,    8.,    0.],\n",
       "       ..., \n",
       "       [   3.,    1.,    5., ...,  100.,    4.,   11.],\n",
       "       [  12.,    2.,    8., ...,    4.,  100.,    4.],\n",
       "       [   4.,    0.,    0., ...,   11.,    4.,  100.]])"
      ]
     },
     "execution_count": 19,
     "metadata": {},
     "output_type": "execute_result"
    }
   ],
   "source": [
    "RFK(x_train[:500], y_train[:500])"
   ]
  }
 ],
 "metadata": {
  "kernelspec": {
   "display_name": "Python 3",
   "language": "python",
   "name": "python3"
  },
  "language_info": {
   "codemirror_mode": {
    "name": "ipython",
    "version": 3
   },
   "file_extension": ".py",
   "mimetype": "text/x-python",
   "name": "python",
   "nbconvert_exporter": "python",
   "pygments_lexer": "ipython3",
   "version": "3.5.2"
  }
 },
 "nbformat": 4,
 "nbformat_minor": 2
}
