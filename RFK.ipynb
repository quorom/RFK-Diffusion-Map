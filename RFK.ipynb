{
 "cells": [
  {
   "cell_type": "markdown",
   "metadata": {},
   "source": [
    "# Implementation the Random Forest Kernel"
   ]
  },
  {
   "cell_type": "code",
   "execution_count": 1,
   "metadata": {
    "collapsed": true
   },
   "outputs": [],
   "source": [
    "import numpy as np\n",
    "import pandas as pd\n",
    "import matplotlib.pyplot as plt\n",
    "import tensorflow as tf\n",
    "from sklearn.ensemble import RandomForestClassifier\n",
    "from scipy import misc"
   ]
  },
  {
   "cell_type": "markdown",
   "metadata": {},
   "source": [
    "## 1 Setup for RFK"
   ]
  },
  {
   "cell_type": "markdown",
   "metadata": {},
   "source": [
    "### 1.1 Load MNIST"
   ]
  },
  {
   "cell_type": "code",
   "execution_count": 2,
   "metadata": {
    "collapsed": true
   },
   "outputs": [],
   "source": [
    "# Load MNIST dataset\n",
    "(x_train, y_train), (x_test, y_test) = tf.keras.datasets.mnist.load_data()"
   ]
  },
  {
   "cell_type": "code",
   "execution_count": 3,
   "metadata": {},
   "outputs": [
    {
     "name": "stdout",
     "output_type": "stream",
     "text": [
      "x_train shape: (60000, 784)\n",
      "Number of images in x_train 60000\n",
      "Number of images in x_test 10000\n"
     ]
    }
   ],
   "source": [
    "# Reshaping the array to 4-dims so that it can work with the Keras API\n",
    "x_train = x_train.reshape(len(x_train),-1)\n",
    "x_test = x_test.reshape(len(x_test),-1)\n",
    "\n",
    "# Making sure that the values are float so that we can get decimal points after division\n",
    "x_train = x_train.astype('float32')\n",
    "x_test = x_test.astype('float32')\n",
    "\n",
    "# Normalizing the RGB codes by dividing it to the max RGB value.\n",
    "x_train /= 255\n",
    "x_test /= 255\n",
    "print('x_train shape:', x_train.shape)\n",
    "print('Number of images in x_train', x_train.shape[0])\n",
    "print('Number of images in x_test', x_test.shape[0])"
   ]
  },
  {
   "cell_type": "markdown",
   "metadata": {},
   "source": [
    "### 1.2 Build a Random Forrest Classifier"
   ]
  },
  {
   "cell_type": "code",
   "execution_count": 4,
   "metadata": {
    "collapsed": true
   },
   "outputs": [],
   "source": [
    "# TODO\n",
    "# One thing that will play a huge role in this is changing the depth.. smaller depth equates to higher chance of \n",
    "# two images falling into the same node"
   ]
  },
  {
   "cell_type": "code",
   "execution_count": 5,
   "metadata": {},
   "outputs": [
    {
     "data": {
      "text/plain": [
       "RandomForestClassifier(bootstrap=True, class_weight=None, criterion='gini',\n",
       "            max_depth=5, max_features='auto', max_leaf_nodes=None,\n",
       "            min_impurity_split=1e-07, min_samples_leaf=1,\n",
       "            min_samples_split=2, min_weight_fraction_leaf=0.0,\n",
       "            n_estimators=100, n_jobs=1, oob_score=False, random_state=0,\n",
       "            verbose=0, warm_start=False)"
      ]
     },
     "execution_count": 5,
     "metadata": {},
     "output_type": "execute_result"
    }
   ],
   "source": [
    "RF = RandomForestClassifier(n_estimators=100, max_depth=5, random_state=0)\n",
    "RF.fit(x_train[:500], y_train[:500])"
   ]
  },
  {
   "cell_type": "code",
   "execution_count": 14,
   "metadata": {},
   "outputs": [
    {
     "data": {
      "text/plain": [
       "0.77390000000000003"
      ]
     },
     "execution_count": 14,
     "metadata": {},
     "output_type": "execute_result"
    }
   ],
   "source": [
    "# Check the accuracy\n",
    "count = 0.0\n",
    "sum(RF.predict(x_test) == y_test)/len(y_test)"
   ]
  },
  {
   "cell_type": "code",
   "execution_count": 17,
   "metadata": {},
   "outputs": [
    {
     "data": {
      "text/plain": [
       "array([[ 5, 27, 36, ..., 57, 28, 23],\n",
       "       [ 9, 56, 55, ..., 25, 11, 36],\n",
       "       [ 5, 41, 36, ...,  5, 34, 16],\n",
       "       ..., \n",
       "       [ 8, 31,  5, ...,  8, 22, 46],\n",
       "       [28, 27, 36, ..., 12, 49, 15],\n",
       "       [23, 50, 47, ..., 49, 13, 44]])"
      ]
     },
     "execution_count": 17,
     "metadata": {},
     "output_type": "execute_result"
    }
   ],
   "source": [
    "\n",
    "\n",
    "final_nodes = RF.apply(x_train[:500])\n",
    "final_nodes"
   ]
  },
  {
   "cell_type": "code",
   "execution_count": 8,
   "metadata": {},
   "outputs": [
    {
     "name": "stdout",
     "output_type": "stream",
     "text": [
      "CPU times: user 24.4 s, sys: 199 ms, total: 24.6 s\n",
      "Wall time: 25.4 s\n"
     ]
    }
   ],
   "source": [
    "%%time\n",
    "num_data = 500\n",
    "\n",
    "num_trees = final_nodes.shape[1]\n",
    "P = np.zeros((num_data,num_data))\n",
    "\n",
    "# For each tree\n",
    "for j in range(100):\n",
    "    tmp_P = []\n",
    "    for i in range(num_data):        \n",
    "        s = np.array([int(final_nodes[i][j] == leaf) for leaf in final_nodes[:, j]])\n",
    "        tmp_P.append(s)\n",
    "    P += np.array(tmp_P)"
   ]
  },
  {
   "cell_type": "code",
   "execution_count": 24,
   "metadata": {
    "collapsed": true
   },
   "outputs": [],
   "source": [
    "row_sum = np.sum(P, axis=1).reshape(-1, 1)\n",
    "P_normed = P / row_sum"
   ]
  },
  {
   "cell_type": "code",
   "execution_count": 25,
   "metadata": {},
   "outputs": [
    {
     "data": {
      "text/plain": [
       "array([[ 0.02422481,  0.0004845 ,  0.00242248, ...,  0.00072674,\n",
       "         0.00290698,  0.00096899],\n",
       "       [ 0.00062913,  0.03145643,  0.        , ...,  0.00031456,\n",
       "         0.00062913,  0.        ],\n",
       "       [ 0.00235849,  0.        ,  0.02358491, ...,  0.00117925,\n",
       "         0.00188679,  0.        ],\n",
       "       ..., \n",
       "       [ 0.00083172,  0.00027724,  0.00138619, ...,  0.02772387,\n",
       "         0.00110895,  0.00304963],\n",
       "       [ 0.0034632 ,  0.0005772 ,  0.0023088 , ...,  0.0011544 ,\n",
       "         0.02886003,  0.0011544 ],\n",
       "       [ 0.00146735,  0.        ,  0.        , ...,  0.00403522,\n",
       "         0.00146735,  0.03668379]])"
      ]
     },
     "execution_count": 25,
     "metadata": {},
     "output_type": "execute_result"
    }
   ],
   "source": [
    "# Unnormalized counts\n",
    "P_normed"
   ]
  },
  {
   "cell_type": "code",
   "execution_count": 26,
   "metadata": {
    "scrolled": true
   },
   "outputs": [
    {
     "data": {
      "image/png": "[encoded data removed]",
      "text/plain": [
       "<matplotlib.figure.Figure at 0x1242d7b00>"
      ]
     },
     "metadata": {},
     "output_type": "display_data"
    }
   ],
   "source": [
    "plt.ylim=1\n",
    "plt.plot(np.arange(500), sorted(P_normed[0,:]))\n",
    "plt.show()"
   ]
  },
  {
   "cell_type": "code",
   "execution_count": 27,
   "metadata": {
    "collapsed": true
   },
   "outputs": [],
   "source": [
    "from sklearn.ensemble import RandomForestClassifier\n",
    "\n",
    "def RFK(x_train, y_train, alpha): \n",
    "    # Build classifier\n",
    "    RF = RandomForestClassifier(n_estimators=100, max_depth=5, random_state=0)\n",
    "    RF.fit(x_train, y_train)\n",
    "\n",
    "    # Get the nodes that they end up on\n",
    "    \"\"\"\n",
    "    # Rows = Image index\n",
    "    # Columns = tree index\n",
    "    # final_nodes[i, j] = the leaf node that input i landed at for tree j\n",
    "    \"\"\"\n",
    "    final_nodes = RF.apply(x_train)\n",
    "\n",
    "    \n",
    "    # TODO Optimize l8r\n",
    "    num_data = len(x_train)\n",
    "\n",
    "    num_trees = final_nodes.shape[1]\n",
    "    P = np.zeros((num_data,num_data))\n",
    "\n",
    "    # For each tree\n",
    "    for j in range(100):\n",
    "        tmp_P = []\n",
    "        for i in range(num_data):        \n",
    "            s = np.array([int(final_nodes[i][j] == leaf) for leaf in final_nodes[:, j]])\n",
    "            tmp_P.append(s)\n",
    "        P += np.array(tmp_P)\n",
    "\n",
    "    return P"
   ]
  },
  {
   "cell_type": "code",
   "execution_count": 28,
   "metadata": {
    "collapsed": true
   },
   "outputs": [],
   "source": [
    "def kernelize(X, y, K=RFK):\n",
    "    \"\"\" Given some data convert it to a kernel matrix using some given kernel.\n",
    "    \n",
    "    Arguments:\n",
    "        data : Data matrix (N, C)\n",
    "        k: Kernel function\n",
    "        alpha: neighborhood factor. *Note bigger alpha increases kernel function value.\n",
    "    \"\"\"\n",
    "    # TODO n^2 should be n^2/2 :]\n",
    "    \n",
    "    kernel_matrix = []\n",
    "    for d_i in X:\n",
    "        row = [K(d_i, d_j, alpha) for d_j in data]\n",
    "        kernel_matrix.append(row)\n",
    "        \n",
    "    return np.array(kernel_matrix)"
   ]
  },
  {
   "cell_type": "code",
   "execution_count": 30,
   "metadata": {},
   "outputs": [
    {
     "data": {
      "text/plain": [
       "array([[ 100.,    2.,   10., ...,    3.,   12.,    4.],\n",
       "       [   2.,  100.,    0., ...,    1.,    2.,    0.],\n",
       "       [  10.,    0.,  100., ...,    5.,    8.,    0.],\n",
       "       ..., \n",
       "       [   3.,    1.,    5., ...,  100.,    4.,   11.],\n",
       "       [  12.,    2.,    8., ...,    4.,  100.,    4.],\n",
       "       [   4.,    0.,    0., ...,   11.,    4.,  100.]])"
      ]
     },
     "execution_count": 30,
     "metadata": {},
     "output_type": "execute_result"
    }
   ],
   "source": [
    "RFK(x_train[:500], y_train[:500], 1)"
   ]
  }
 ],
 "metadata": {
  "kernelspec": {
   "display_name": "Python 3",
   "language": "python",
   "name": "python3"
  },
  "language_info": {
   "codemirror_mode": {
    "name": "ipython",
    "version": 3
   },
   "file_extension": ".py",
   "mimetype": "text/x-python",
   "name": "python",
   "nbconvert_exporter": "python",
   "pygments_lexer": "ipython3",
   "version": "3.5.2"
  }
 },
 "nbformat": 4,
 "nbformat_minor": 2
}
